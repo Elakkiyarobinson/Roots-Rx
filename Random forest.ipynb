{
 "cells": [
  {
   "cell_type": "code",
   "execution_count": 1,
   "id": "99e5d939",
   "metadata": {},
   "outputs": [],
   "source": [
    "import pandas as pd"
   ]
  },
  {
   "cell_type": "code",
   "execution_count": 6,
   "id": "6f1e6536",
   "metadata": {},
   "outputs": [],
   "source": [
    "data=pd.read_csv(r\"C:\\Users\\Admin\\Documents\\Book1.csv\", encoding='latin1')"
   ]
  },
  {
   "cell_type": "code",
   "execution_count": 7,
   "id": "7d524824",
   "metadata": {},
   "outputs": [
    {
     "data": {
      "text/html": [
       "<div>\n",
       "<style scoped>\n",
       "    .dataframe tbody tr th:only-of-type {\n",
       "        vertical-align: middle;\n",
       "    }\n",
       "\n",
       "    .dataframe tbody tr th {\n",
       "        vertical-align: top;\n",
       "    }\n",
       "\n",
       "    .dataframe thead th {\n",
       "        text-align: right;\n",
       "    }\n",
       "</style>\n",
       "<table border=\"1\" class=\"dataframe\">\n",
       "  <thead>\n",
       "    <tr style=\"text-align: right;\">\n",
       "      <th></th>\n",
       "      <th>id</th>\n",
       "      <th>name</th>\n",
       "      <th>short_composition1</th>\n",
       "      <th>short_composition2</th>\n",
       "      <th>Sodium (mg)</th>\n",
       "      <th>Potassium (mg)</th>\n",
       "      <th>Vitamin A (mg)</th>\n",
       "      <th>Vitamin C (mg)</th>\n",
       "      <th>Calcium (mg)</th>\n",
       "      <th>Vitamin A</th>\n",
       "      <th>Vitamin C</th>\n",
       "      <th>op</th>\n",
       "    </tr>\n",
       "  </thead>\n",
       "  <tbody>\n",
       "    <tr>\n",
       "      <th>0</th>\n",
       "      <td>1</td>\n",
       "      <td>Augmentin 625 Duo Tablet</td>\n",
       "      <td>Amoxycillin  (500mg)</td>\n",
       "      <td>Clavulanic Acid (125mg)</td>\n",
       "      <td>1</td>\n",
       "      <td>77</td>\n",
       "      <td>54</td>\n",
       "      <td>9.7</td>\n",
       "      <td>6</td>\n",
       "      <td>10</td>\n",
       "      <td>15</td>\n",
       "      <td>23</td>\n",
       "    </tr>\n",
       "    <tr>\n",
       "      <th>1</th>\n",
       "      <td>2</td>\n",
       "      <td>Azithral 500 Tablet</td>\n",
       "      <td>Azithromycin (500mg)</td>\n",
       "      <td>NaN</td>\n",
       "      <td>14</td>\n",
       "      <td>55</td>\n",
       "      <td>0</td>\n",
       "      <td>18.7</td>\n",
       "      <td>19</td>\n",
       "      <td>10</td>\n",
       "      <td>15</td>\n",
       "      <td>12</td>\n",
       "    </tr>\n",
       "    <tr>\n",
       "      <th>2</th>\n",
       "      <td>3</td>\n",
       "      <td>Ascoril LS Syrup</td>\n",
       "      <td>Ambroxol (30mg/5ml)</td>\n",
       "      <td>Levosalbutamol (1mg/5ml)</td>\n",
       "      <td>8</td>\n",
       "      <td>38</td>\n",
       "      <td>5</td>\n",
       "      <td>36.3</td>\n",
       "      <td>18</td>\n",
       "      <td>4</td>\n",
       "      <td>190</td>\n",
       "      <td>34</td>\n",
       "    </tr>\n",
       "    <tr>\n",
       "      <th>3</th>\n",
       "      <td>4</td>\n",
       "      <td>Allegra 120mg Tablet</td>\n",
       "      <td>Fexofenadine (120mg)</td>\n",
       "      <td>NaN</td>\n",
       "      <td>2</td>\n",
       "      <td>45</td>\n",
       "      <td>16</td>\n",
       "      <td>31.8</td>\n",
       "      <td>24</td>\n",
       "      <td>6</td>\n",
       "      <td>220</td>\n",
       "      <td>32</td>\n",
       "    </tr>\n",
       "    <tr>\n",
       "      <th>4</th>\n",
       "      <td>5</td>\n",
       "      <td>Avil 25 Tablet</td>\n",
       "      <td>Pheniramine (25mg)</td>\n",
       "      <td>NaN</td>\n",
       "      <td>1</td>\n",
       "      <td>11</td>\n",
       "      <td>54</td>\n",
       "      <td>0.0</td>\n",
       "      <td>6</td>\n",
       "      <td>110</td>\n",
       "      <td>10</td>\n",
       "      <td>23</td>\n",
       "    </tr>\n",
       "    <tr>\n",
       "      <th>5</th>\n",
       "      <td>6</td>\n",
       "      <td>Allegra-M Tablet</td>\n",
       "      <td>Montelukast (10mg)</td>\n",
       "      <td>Fexofenadine (120mg)</td>\n",
       "      <td>1</td>\n",
       "      <td>9</td>\n",
       "      <td>11</td>\n",
       "      <td>14.0</td>\n",
       "      <td>29</td>\n",
       "      <td>0</td>\n",
       "      <td>100</td>\n",
       "      <td>18</td>\n",
       "    </tr>\n",
       "  </tbody>\n",
       "</table>\n",
       "</div>"
      ],
      "text/plain": [
       "   id                      name     short_composition1  \\\n",
       "0   1  Augmentin 625 Duo Tablet  Amoxycillin  (500mg)    \n",
       "1   2       Azithral 500 Tablet   Azithromycin (500mg)   \n",
       "2   3          Ascoril LS Syrup   Ambroxol (30mg/5ml)    \n",
       "3   4      Allegra 120mg Tablet   Fexofenadine (120mg)   \n",
       "4   5            Avil 25 Tablet     Pheniramine (25mg)   \n",
       "5   6          Allegra-M Tablet    Montelukast (10mg)    \n",
       "\n",
       "           short_composition2  Sodium (mg)  Potassium (mg)  Vitamin A (mg)  \\\n",
       "0     Clavulanic Acid (125mg)            1              77              54   \n",
       "1                         NaN           14              55               0   \n",
       "2   Levosalbutamol (1mg/5ml)             8              38               5   \n",
       "3                         NaN            2              45              16   \n",
       "4                         NaN            1              11              54   \n",
       "5        Fexofenadine (120mg)            1               9              11   \n",
       "\n",
       "   Vitamin C (mg)  Calcium (mg)  Vitamin A  Vitamin C  op  \n",
       "0             9.7             6         10         15  23  \n",
       "1            18.7            19         10         15  12  \n",
       "2            36.3            18          4        190  34  \n",
       "3            31.8            24          6        220  32  \n",
       "4             0.0             6        110         10  23  \n",
       "5            14.0            29          0        100  18  "
      ]
     },
     "execution_count": 7,
     "metadata": {},
     "output_type": "execute_result"
    }
   ],
   "source": [
    "data"
   ]
  },
  {
   "cell_type": "code",
   "execution_count": 8,
   "id": "a9497345",
   "metadata": {},
   "outputs": [],
   "source": [
    "data.fillna(method='ffill', inplace=True)"
   ]
  },
  {
   "cell_type": "code",
   "execution_count": 9,
   "id": "162c5e8c",
   "metadata": {},
   "outputs": [
    {
     "data": {
      "text/html": [
       "<div>\n",
       "<style scoped>\n",
       "    .dataframe tbody tr th:only-of-type {\n",
       "        vertical-align: middle;\n",
       "    }\n",
       "\n",
       "    .dataframe tbody tr th {\n",
       "        vertical-align: top;\n",
       "    }\n",
       "\n",
       "    .dataframe thead th {\n",
       "        text-align: right;\n",
       "    }\n",
       "</style>\n",
       "<table border=\"1\" class=\"dataframe\">\n",
       "  <thead>\n",
       "    <tr style=\"text-align: right;\">\n",
       "      <th></th>\n",
       "      <th>id</th>\n",
       "      <th>name</th>\n",
       "      <th>short_composition1</th>\n",
       "      <th>short_composition2</th>\n",
       "      <th>Sodium (mg)</th>\n",
       "      <th>Potassium (mg)</th>\n",
       "      <th>Vitamin A (mg)</th>\n",
       "      <th>Vitamin C (mg)</th>\n",
       "      <th>Calcium (mg)</th>\n",
       "      <th>Vitamin A</th>\n",
       "      <th>Vitamin C</th>\n",
       "      <th>op</th>\n",
       "    </tr>\n",
       "  </thead>\n",
       "  <tbody>\n",
       "    <tr>\n",
       "      <th>0</th>\n",
       "      <td>1</td>\n",
       "      <td>Augmentin 625 Duo Tablet</td>\n",
       "      <td>Amoxycillin  (500mg)</td>\n",
       "      <td>Clavulanic Acid (125mg)</td>\n",
       "      <td>1</td>\n",
       "      <td>77</td>\n",
       "      <td>54</td>\n",
       "      <td>9.7</td>\n",
       "      <td>6</td>\n",
       "      <td>10</td>\n",
       "      <td>15</td>\n",
       "      <td>23</td>\n",
       "    </tr>\n",
       "    <tr>\n",
       "      <th>1</th>\n",
       "      <td>2</td>\n",
       "      <td>Azithral 500 Tablet</td>\n",
       "      <td>Azithromycin (500mg)</td>\n",
       "      <td>Clavulanic Acid (125mg)</td>\n",
       "      <td>14</td>\n",
       "      <td>55</td>\n",
       "      <td>0</td>\n",
       "      <td>18.7</td>\n",
       "      <td>19</td>\n",
       "      <td>10</td>\n",
       "      <td>15</td>\n",
       "      <td>12</td>\n",
       "    </tr>\n",
       "    <tr>\n",
       "      <th>2</th>\n",
       "      <td>3</td>\n",
       "      <td>Ascoril LS Syrup</td>\n",
       "      <td>Ambroxol (30mg/5ml)</td>\n",
       "      <td>Levosalbutamol (1mg/5ml)</td>\n",
       "      <td>8</td>\n",
       "      <td>38</td>\n",
       "      <td>5</td>\n",
       "      <td>36.3</td>\n",
       "      <td>18</td>\n",
       "      <td>4</td>\n",
       "      <td>190</td>\n",
       "      <td>34</td>\n",
       "    </tr>\n",
       "    <tr>\n",
       "      <th>3</th>\n",
       "      <td>4</td>\n",
       "      <td>Allegra 120mg Tablet</td>\n",
       "      <td>Fexofenadine (120mg)</td>\n",
       "      <td>Levosalbutamol (1mg/5ml)</td>\n",
       "      <td>2</td>\n",
       "      <td>45</td>\n",
       "      <td>16</td>\n",
       "      <td>31.8</td>\n",
       "      <td>24</td>\n",
       "      <td>6</td>\n",
       "      <td>220</td>\n",
       "      <td>32</td>\n",
       "    </tr>\n",
       "    <tr>\n",
       "      <th>4</th>\n",
       "      <td>5</td>\n",
       "      <td>Avil 25 Tablet</td>\n",
       "      <td>Pheniramine (25mg)</td>\n",
       "      <td>Levosalbutamol (1mg/5ml)</td>\n",
       "      <td>1</td>\n",
       "      <td>11</td>\n",
       "      <td>54</td>\n",
       "      <td>0.0</td>\n",
       "      <td>6</td>\n",
       "      <td>110</td>\n",
       "      <td>10</td>\n",
       "      <td>23</td>\n",
       "    </tr>\n",
       "    <tr>\n",
       "      <th>5</th>\n",
       "      <td>6</td>\n",
       "      <td>Allegra-M Tablet</td>\n",
       "      <td>Montelukast (10mg)</td>\n",
       "      <td>Fexofenadine (120mg)</td>\n",
       "      <td>1</td>\n",
       "      <td>9</td>\n",
       "      <td>11</td>\n",
       "      <td>14.0</td>\n",
       "      <td>29</td>\n",
       "      <td>0</td>\n",
       "      <td>100</td>\n",
       "      <td>18</td>\n",
       "    </tr>\n",
       "  </tbody>\n",
       "</table>\n",
       "</div>"
      ],
      "text/plain": [
       "   id                      name     short_composition1  \\\n",
       "0   1  Augmentin 625 Duo Tablet  Amoxycillin  (500mg)    \n",
       "1   2       Azithral 500 Tablet   Azithromycin (500mg)   \n",
       "2   3          Ascoril LS Syrup   Ambroxol (30mg/5ml)    \n",
       "3   4      Allegra 120mg Tablet   Fexofenadine (120mg)   \n",
       "4   5            Avil 25 Tablet     Pheniramine (25mg)   \n",
       "5   6          Allegra-M Tablet    Montelukast (10mg)    \n",
       "\n",
       "           short_composition2  Sodium (mg)  Potassium (mg)  Vitamin A (mg)  \\\n",
       "0     Clavulanic Acid (125mg)            1              77              54   \n",
       "1     Clavulanic Acid (125mg)           14              55               0   \n",
       "2   Levosalbutamol (1mg/5ml)             8              38               5   \n",
       "3   Levosalbutamol (1mg/5ml)             2              45              16   \n",
       "4   Levosalbutamol (1mg/5ml)             1              11              54   \n",
       "5        Fexofenadine (120mg)            1               9              11   \n",
       "\n",
       "   Vitamin C (mg)  Calcium (mg)  Vitamin A  Vitamin C  op  \n",
       "0             9.7             6         10         15  23  \n",
       "1            18.7            19         10         15  12  \n",
       "2            36.3            18          4        190  34  \n",
       "3            31.8            24          6        220  32  \n",
       "4             0.0             6        110         10  23  \n",
       "5            14.0            29          0        100  18  "
      ]
     },
     "execution_count": 9,
     "metadata": {},
     "output_type": "execute_result"
    }
   ],
   "source": [
    "data"
   ]
  },
  {
   "cell_type": "code",
   "execution_count": 11,
   "id": "294bcf04",
   "metadata": {},
   "outputs": [],
   "source": [
    "X = data.drop('op',axis=1)"
   ]
  },
  {
   "cell_type": "code",
   "execution_count": 16,
   "id": "523ec34b",
   "metadata": {},
   "outputs": [
    {
     "data": {
      "text/plain": [
       "array([23, 32], dtype=int64)"
      ]
     },
     "execution_count": 16,
     "metadata": {},
     "output_type": "execute_result"
    }
   ],
   "source": [
    "y_pred"
   ]
  },
  {
   "cell_type": "code",
   "execution_count": 26,
   "id": "cb8e7961",
   "metadata": {},
   "outputs": [
    {
     "name": "stdout",
     "output_type": "stream",
     "text": [
      "Accuracy: 0.5\n",
      "Classification Report:\n",
      "               precision    recall  f1-score   support\n",
      "\n",
      "          12       0.00      0.00      0.00         1\n",
      "          23       1.00      1.00      1.00         1\n",
      "          34       0.00      0.00      0.00         0\n",
      "\n",
      "    accuracy                           0.50         2\n",
      "   macro avg       0.33      0.33      0.33         2\n",
      "weighted avg       0.50      0.50      0.50         2\n",
      "\n"
     ]
    }
   ],
   "source": [
    "import pandas as pd\n",
    "from sklearn.model_selection import train_test_split\n",
    "from sklearn.ensemble import RandomForestClassifier\n",
    "from sklearn.metrics import accuracy_score, classification_report\n",
    "\n",
    "data = pd.read_csv(r\"C:\\Users\\Admin\\Documents\\Book1.csv\")\n",
    "\n",
    "X = data[['Sodium (mg)', 'Potassium (mg)', 'Vitamin A (mg)', 'Vitamin C (mg)', 'Calcium (mg)', 'Vitamin A', 'Vitamin C']]\n",
    "y = data['op']\n",
    "\n",
    "X_train, X_test, y_train, y_test = train_test_split(X, y, test_size=0.3, random_state=42)\n",
    "\n",
    "# Create a Random Forest classifier\n",
    "rf_classifier = RandomForestClassifier(n_estimators=100, random_state=42)\n",
    "\n",
    "rf_classifier.fit(X_train, y_train)\n",
    "\n",
    "y_pred = rf_classifier.predict(X_test)\n",
    "\n",
    "accuracy = accuracy_score(y_test, y_pred)\n",
    "classification_rep = classification_report(y_test, y_pred, zero_division=0)\n",
    "\n",
    "print(\"Accuracy:\", accuracy)\n",
    "print(\"Classification Report:\\n\", classification_rep)\n"
   ]
  },
  {
   "cell_type": "code",
   "execution_count": 30,
   "id": "f621369d",
   "metadata": {},
   "outputs": [
    {
     "name": "stderr",
     "output_type": "stream",
     "text": [
      "C:\\Users\\Admin\\anaconda3\\Lib\\site-packages\\sklearn\\base.py:464: UserWarning: X does not have valid feature names, but RandomForestClassifier was fitted with feature names\n",
      "  warnings.warn(\n"
     ]
    }
   ],
   "source": [
    "y_pred = rf_classifier.predict([[1,9,11,14.0,29,0,100]])"
   ]
  },
  {
   "cell_type": "code",
   "execution_count": 31,
   "id": "554e0278",
   "metadata": {},
   "outputs": [
    {
     "data": {
      "text/plain": [
       "array([18], dtype=int64)"
      ]
     },
     "execution_count": 31,
     "metadata": {},
     "output_type": "execute_result"
    }
   ],
   "source": [
    "y_pred"
   ]
  },
  {
   "cell_type": "code",
   "execution_count": 36,
   "id": "9e38ab1d",
   "metadata": {},
   "outputs": [
    {
     "ename": "SyntaxError",
     "evalue": "invalid syntax. Perhaps you forgot a comma? (2493093202.py, line 3)",
     "output_type": "error",
     "traceback": [
      "\u001b[1;36m  Cell \u001b[1;32mIn[36], line 3\u001b[1;36m\u001b[0m\n\u001b[1;33m    pickle.dump(Random forest, open('Random forest.pkl', 'wb'))\u001b[0m\n\u001b[1;37m                ^\u001b[0m\n\u001b[1;31mSyntaxError\u001b[0m\u001b[1;31m:\u001b[0m invalid syntax. Perhaps you forgot a comma?\n"
     ]
    }
   ],
   "source": []
  },
  {
   "cell_type": "code",
   "execution_count": 34,
   "id": "3b79a095",
   "metadata": {},
   "outputs": [
    {
     "ename": "FileNotFoundError",
     "evalue": "[Errno 2] No such file or directory: 'my_object.pickle'",
     "output_type": "error",
     "traceback": [
      "\u001b[1;31m---------------------------------------------------------------------------\u001b[0m",
      "\u001b[1;31mFileNotFoundError\u001b[0m                         Traceback (most recent call last)",
      "Cell \u001b[1;32mIn[34], line 1\u001b[0m\n\u001b[1;32m----> 1\u001b[0m \u001b[38;5;28;01mwith\u001b[39;00m \u001b[38;5;28mopen\u001b[39m(\u001b[38;5;124m\"\u001b[39m\u001b[38;5;124mmy_object.pickle\u001b[39m\u001b[38;5;124m\"\u001b[39m, \u001b[38;5;124m\"\u001b[39m\u001b[38;5;124mrb\u001b[39m\u001b[38;5;124m\"\u001b[39m) \u001b[38;5;28;01mas\u001b[39;00m f:\n\u001b[0;32m      2\u001b[0m \n\u001b[0;32m      3\u001b[0m     \u001b[38;5;66;03m# Load the object from the file\u001b[39;00m\n\u001b[0;32m      4\u001b[0m     my_object \u001b[38;5;241m=\u001b[39m pickle\u001b[38;5;241m.\u001b[39mload(f)\n\u001b[0;32m      6\u001b[0m \u001b[38;5;66;03m# Print the object\u001b[39;00m\n",
      "File \u001b[1;32m~\\anaconda3\\Lib\\site-packages\\IPython\\core\\interactiveshell.py:286\u001b[0m, in \u001b[0;36m_modified_open\u001b[1;34m(file, *args, **kwargs)\u001b[0m\n\u001b[0;32m    279\u001b[0m \u001b[38;5;28;01mif\u001b[39;00m file \u001b[38;5;129;01min\u001b[39;00m {\u001b[38;5;241m0\u001b[39m, \u001b[38;5;241m1\u001b[39m, \u001b[38;5;241m2\u001b[39m}:\n\u001b[0;32m    280\u001b[0m     \u001b[38;5;28;01mraise\u001b[39;00m \u001b[38;5;167;01mValueError\u001b[39;00m(\n\u001b[0;32m    281\u001b[0m         \u001b[38;5;124mf\u001b[39m\u001b[38;5;124m\"\u001b[39m\u001b[38;5;124mIPython won\u001b[39m\u001b[38;5;124m'\u001b[39m\u001b[38;5;124mt let you open fd=\u001b[39m\u001b[38;5;132;01m{\u001b[39;00mfile\u001b[38;5;132;01m}\u001b[39;00m\u001b[38;5;124m by default \u001b[39m\u001b[38;5;124m\"\u001b[39m\n\u001b[0;32m    282\u001b[0m         \u001b[38;5;124m\"\u001b[39m\u001b[38;5;124mas it is likely to crash IPython. If you know what you are doing, \u001b[39m\u001b[38;5;124m\"\u001b[39m\n\u001b[0;32m    283\u001b[0m         \u001b[38;5;124m\"\u001b[39m\u001b[38;5;124myou can use builtins\u001b[39m\u001b[38;5;124m'\u001b[39m\u001b[38;5;124m open.\u001b[39m\u001b[38;5;124m\"\u001b[39m\n\u001b[0;32m    284\u001b[0m     )\n\u001b[1;32m--> 286\u001b[0m \u001b[38;5;28;01mreturn\u001b[39;00m io_open(file, \u001b[38;5;241m*\u001b[39margs, \u001b[38;5;241m*\u001b[39m\u001b[38;5;241m*\u001b[39mkwargs)\n",
      "\u001b[1;31mFileNotFoundError\u001b[0m: [Errno 2] No such file or directory: 'my_object.pickle'"
     ]
    }
   ],
   "source": []
  },
  {
   "cell_type": "code",
   "execution_count": 38,
   "id": "56fb4730",
   "metadata": {},
   "outputs": [
    {
     "ename": "SyntaxError",
     "evalue": "invalid syntax. Perhaps you forgot a comma? (3494165479.py, line 3)",
     "output_type": "error",
     "traceback": [
      "\u001b[1;36m  Cell \u001b[1;32mIn[38], line 3\u001b[1;36m\u001b[0m\n\u001b[1;33m    pickle.dump(Random forest, files)\u001b[0m\n\u001b[1;37m                ^\u001b[0m\n\u001b[1;31mSyntaxError\u001b[0m\u001b[1;31m:\u001b[0m invalid syntax. Perhaps you forgot a comma?\n"
     ]
    }
   ],
   "source": [
    "import pickle\n",
    "with open('Random forest_pkl', 'wb') as files:\n",
    "    pickle.dump(Random forest, files)"
   ]
  },
  {
   "cell_type": "code",
   "execution_count": null,
   "id": "cae272a3",
   "metadata": {},
   "outputs": [],
   "source": []
  }
 ],
 "metadata": {
  "kernelspec": {
   "display_name": "Python 3 (ipykernel)",
   "language": "python",
   "name": "python3"
  },
  "language_info": {
   "codemirror_mode": {
    "name": "ipython",
    "version": 3
   },
   "file_extension": ".py",
   "mimetype": "text/x-python",
   "name": "python",
   "nbconvert_exporter": "python",
   "pygments_lexer": "ipython3",
   "version": "3.11.5"
  }
 },
 "nbformat": 4,
 "nbformat_minor": 5
}
